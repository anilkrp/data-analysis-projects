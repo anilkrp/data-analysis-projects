{
 "cells": [
  {
   "cell_type": "code",
   "execution_count": 1,
   "metadata": {
    "_cell_guid": "b1076dfc-b9ad-4769-8c92-a6c4dae69d19",
    "_uuid": "8f2839f25d086af736a60e9eeb907d3b93b6e0e5",
    "execution": {
     "iopub.execute_input": "2023-01-27T10:42:03.575854Z",
     "iopub.status.busy": "2023-01-27T10:42:03.575215Z",
     "iopub.status.idle": "2023-01-27T10:42:03.623817Z",
     "shell.execute_reply": "2023-01-27T10:42:03.622556Z",
     "shell.execute_reply.started": "2023-01-27T10:42:03.575707Z"
    }
   },
   "outputs": [],
   "source": [
    "# This Python 3 environment comes with many helpful analytics libraries installed\n",
    "# It is defined by the kaggle/python Docker image: https://github.com/kaggle/docker-python\n",
    "# For example, here's several helpful packages to load\n",
    "\n",
    "import numpy as np # linear algebra\n",
    "import pandas as pd # data processing, CSV file I/O (e.g. pd.read_csv)\n",
    "\n",
    "# Input data files are available in the read-only \"../input/\" directory\n",
    "# For example, running this (by clicking run or pressing Shift+Enter) will list all files under the input directory\n",
    "\n",
    "import os\n",
    "for dirname, _, filenames in os.walk('/kaggle/input'):\n",
    "    for filename in filenames:\n",
    "        print(os.path.join(dirname, filename))\n",
    "\n",
    "# You can write up to 20GB to the current directory (/kaggle/working/) that gets preserved as output when you create a version using \"Save & Run All\" \n",
    "# You can also write temporary files to /kaggle/temp/, but they won't be saved outside of the current session"
   ]
  },
  {
   "cell_type": "markdown",
   "metadata": {},
   "source": [
    "let's import our libaries"
   ]
  },
  {
   "cell_type": "code",
   "execution_count": 2,
   "metadata": {
    "execution": {
     "iopub.execute_input": "2023-01-27T10:44:09.670736Z",
     "iopub.status.busy": "2023-01-27T10:44:09.670254Z",
     "iopub.status.idle": "2023-01-27T10:44:09.678515Z",
     "shell.execute_reply": "2023-01-27T10:44:09.677276Z",
     "shell.execute_reply.started": "2023-01-27T10:44:09.670700Z"
    }
   },
   "outputs": [
    {
     "name": "stdout",
     "output_type": "stream",
     "text": [
      "setup complete\n"
     ]
    }
   ],
   "source": [
    "import pandas as pd\n",
    "import numpy as np\n",
    "import matplotlib.pyplot as plt\n",
    "import seaborn as sns\n",
    "import warnings\n",
    "warnings.filterwarnings('ignore')\n",
    "print('setup complete')"
   ]
  },
  {
   "cell_type": "markdown",
   "metadata": {},
   "source": [
    "# # read the data and display the top 5 rows"
   ]
  },
  {
   "cell_type": "code",
   "execution_count": 3,
   "metadata": {
    "execution": {
     "iopub.execute_input": "2023-01-27T10:46:58.092582Z",
     "iopub.status.busy": "2023-01-27T10:46:58.092149Z",
     "iopub.status.idle": "2023-01-27T10:46:58.363699Z",
     "shell.execute_reply": "2023-01-27T10:46:58.362313Z",
     "shell.execute_reply.started": "2023-01-27T10:46:58.092548Z"
    }
   },
   "outputs": [
    {
     "data": {
      "text/html": [
       "<div>\n",
       "<style scoped>\n",
       "    .dataframe tbody tr th:only-of-type {\n",
       "        vertical-align: middle;\n",
       "    }\n",
       "\n",
       "    .dataframe tbody tr th {\n",
       "        vertical-align: top;\n",
       "    }\n",
       "\n",
       "    .dataframe thead th {\n",
       "        text-align: right;\n",
       "    }\n",
       "</style>\n",
       "<table border=\"1\" class=\"dataframe\">\n",
       "  <thead>\n",
       "    <tr style=\"text-align: right;\">\n",
       "      <th></th>\n",
       "      <th>id</th>\n",
       "      <th>time</th>\n",
       "      <th>con_treat</th>\n",
       "      <th>page</th>\n",
       "      <th>converted</th>\n",
       "    </tr>\n",
       "  </thead>\n",
       "  <tbody>\n",
       "    <tr>\n",
       "      <th>0</th>\n",
       "      <td>851104</td>\n",
       "      <td>11:48.6</td>\n",
       "      <td>control</td>\n",
       "      <td>old_page</td>\n",
       "      <td>0</td>\n",
       "    </tr>\n",
       "    <tr>\n",
       "      <th>1</th>\n",
       "      <td>804228</td>\n",
       "      <td>01:45.2</td>\n",
       "      <td>control</td>\n",
       "      <td>old_page</td>\n",
       "      <td>0</td>\n",
       "    </tr>\n",
       "    <tr>\n",
       "      <th>2</th>\n",
       "      <td>661590</td>\n",
       "      <td>55:06.2</td>\n",
       "      <td>treatment</td>\n",
       "      <td>new_page</td>\n",
       "      <td>0</td>\n",
       "    </tr>\n",
       "    <tr>\n",
       "      <th>3</th>\n",
       "      <td>853541</td>\n",
       "      <td>28:03.1</td>\n",
       "      <td>treatment</td>\n",
       "      <td>new_page</td>\n",
       "      <td>0</td>\n",
       "    </tr>\n",
       "    <tr>\n",
       "      <th>4</th>\n",
       "      <td>864975</td>\n",
       "      <td>52:26.2</td>\n",
       "      <td>control</td>\n",
       "      <td>old_page</td>\n",
       "      <td>1</td>\n",
       "    </tr>\n",
       "  </tbody>\n",
       "</table>\n",
       "</div>"
      ],
      "text/plain": [
       "       id     time  con_treat      page  converted\n",
       "0  851104  11:48.6    control  old_page          0\n",
       "1  804228  01:45.2    control  old_page          0\n",
       "2  661590  55:06.2  treatment  new_page          0\n",
       "3  853541  28:03.1  treatment  new_page          0\n",
       "4  864975  52:26.2    control  old_page          1"
      ]
     },
     "execution_count": 3,
     "metadata": {},
     "output_type": "execute_result"
    }
   ],
   "source": [
    "df = pd.read_csv('ab_test.csv')\n",
    "df.head()"
   ]
  },
  {
   "cell_type": "markdown",
   "metadata": {},
   "source": []
  },
  {
   "cell_type": "code",
   "execution_count": 4,
   "metadata": {
    "execution": {
     "iopub.execute_input": "2023-01-27T10:47:52.834402Z",
     "iopub.status.busy": "2023-01-27T10:47:52.833918Z",
     "iopub.status.idle": "2023-01-27T10:47:52.843173Z",
     "shell.execute_reply": "2023-01-27T10:47:52.841882Z",
     "shell.execute_reply.started": "2023-01-27T10:47:52.834361Z"
    }
   },
   "outputs": [
    {
     "data": {
      "text/plain": [
       "Index(['id', 'time', 'con_treat', 'page', 'converted'], dtype='object')"
      ]
     },
     "execution_count": 4,
     "metadata": {},
     "output_type": "execute_result"
    }
   ],
   "source": [
    "df.columns"
   ]
  },
  {
   "cell_type": "code",
   "execution_count": 5,
   "metadata": {
    "execution": {
     "iopub.execute_input": "2023-01-27T10:48:45.966133Z",
     "iopub.status.busy": "2023-01-27T10:48:45.965732Z",
     "iopub.status.idle": "2023-01-27T10:48:45.972095Z",
     "shell.execute_reply": "2023-01-27T10:48:45.971092Z",
     "shell.execute_reply.started": "2023-01-27T10:48:45.966101Z"
    }
   },
   "outputs": [],
   "source": [
    "df.columns = ['user_id','timestamp','group','landing_page','converted']"
   ]
  },
  {
   "cell_type": "code",
   "execution_count": 6,
   "metadata": {
    "execution": {
     "iopub.execute_input": "2023-01-27T10:50:20.275843Z",
     "iopub.status.busy": "2023-01-27T10:50:20.275417Z",
     "iopub.status.idle": "2023-01-27T10:50:20.301014Z",
     "shell.execute_reply": "2023-01-27T10:50:20.300054Z",
     "shell.execute_reply.started": "2023-01-27T10:50:20.275809Z"
    }
   },
   "outputs": [
    {
     "name": "stdout",
     "output_type": "stream",
     "text": [
      "Numbet of rows: 294478\n",
      "Numbet of unique users: 290584\n"
     ]
    }
   ],
   "source": [
    "print(f'Numbet of rows: {df.shape[0]}')\n",
    "print(f'Numbet of unique users: {df.user_id.nunique()}')\n",
    "\n"
   ]
  },
  {
   "cell_type": "code",
   "execution_count": 7,
   "metadata": {
    "execution": {
     "iopub.execute_input": "2023-01-27T10:51:04.847971Z",
     "iopub.status.busy": "2023-01-27T10:51:04.847578Z",
     "iopub.status.idle": "2023-01-27T10:51:04.910120Z",
     "shell.execute_reply": "2023-01-27T10:51:04.908990Z",
     "shell.execute_reply.started": "2023-01-27T10:51:04.847939Z"
    }
   },
   "outputs": [
    {
     "name": "stdout",
     "output_type": "stream",
     "text": [
      "<class 'pandas.core.frame.DataFrame'>\n",
      "RangeIndex: 294478 entries, 0 to 294477\n",
      "Data columns (total 5 columns):\n",
      " #   Column        Non-Null Count   Dtype \n",
      "---  ------        --------------   ----- \n",
      " 0   user_id       294478 non-null  int64 \n",
      " 1   timestamp     294478 non-null  object\n",
      " 2   group         294478 non-null  object\n",
      " 3   landing_page  294478 non-null  object\n",
      " 4   converted     294478 non-null  int64 \n",
      "dtypes: int64(2), object(3)\n",
      "memory usage: 11.2+ MB\n"
     ]
    }
   ],
   "source": [
    "df.info()"
   ]
  },
  {
   "cell_type": "code",
   "execution_count": 8,
   "metadata": {
    "execution": {
     "iopub.execute_input": "2023-01-27T10:51:59.676852Z",
     "iopub.status.busy": "2023-01-27T10:51:59.676449Z",
     "iopub.status.idle": "2023-01-27T10:51:59.736355Z",
     "shell.execute_reply": "2023-01-27T10:51:59.734753Z",
     "shell.execute_reply.started": "2023-01-27T10:51:59.676818Z"
    }
   },
   "outputs": [
    {
     "data": {
      "text/plain": [
       "user_id         0\n",
       "timestamp       0\n",
       "group           0\n",
       "landing_page    0\n",
       "converted       0\n",
       "dtype: int64"
      ]
     },
     "execution_count": 8,
     "metadata": {},
     "output_type": "execute_result"
    }
   ],
   "source": [
    "# to check missing values\n",
    "df.isna().sum()"
   ]
  },
  {
   "cell_type": "code",
   "execution_count": 9,
   "metadata": {
    "execution": {
     "iopub.execute_input": "2023-01-27T10:55:42.859944Z",
     "iopub.status.busy": "2023-01-27T10:55:42.859533Z",
     "iopub.status.idle": "2023-01-27T10:55:42.904177Z",
     "shell.execute_reply": "2023-01-27T10:55:42.903149Z",
     "shell.execute_reply.started": "2023-01-27T10:55:42.859909Z"
    }
   },
   "outputs": [],
   "source": [
    "# to find out group value with teatment\n",
    "n_treat=df[df['group']=='treatment'].shape[0]"
   ]
  },
  {
   "cell_type": "code",
   "execution_count": 10,
   "metadata": {
    "execution": {
     "iopub.execute_input": "2023-01-27T10:55:53.000202Z",
     "iopub.status.busy": "2023-01-27T10:55:52.999821Z",
     "iopub.status.idle": "2023-01-27T10:55:53.044745Z",
     "shell.execute_reply": "2023-01-27T10:55:53.043526Z",
     "shell.execute_reply.started": "2023-01-27T10:55:53.000172Z"
    }
   },
   "outputs": [],
   "source": [
    "# to find out new pages\n",
    "n_new_page=df[df['landing_page']=='new_page'].shape[0]"
   ]
  },
  {
   "cell_type": "code",
   "execution_count": 11,
   "metadata": {
    "execution": {
     "iopub.execute_input": "2023-01-27T10:56:35.172900Z",
     "iopub.status.busy": "2023-01-27T10:56:35.172497Z",
     "iopub.status.idle": "2023-01-27T10:56:35.178429Z",
     "shell.execute_reply": "2023-01-27T10:56:35.177200Z",
     "shell.execute_reply.started": "2023-01-27T10:56:35.172869Z"
    }
   },
   "outputs": [
    {
     "name": "stdout",
     "output_type": "stream",
     "text": [
      "difference:  37\n"
     ]
    }
   ],
   "source": [
    "# difference between treatment and newpage\n",
    "print('difference: ',n_treat-n_new_page)"
   ]
  },
  {
   "cell_type": "markdown",
   "metadata": {},
   "source": [
    "there is mismatch between number of users assigned to treatment and the number of those landed on treatment page. this might indicate a problem with the data and needs furthers exploration."
   ]
  },
  {
   "cell_type": "code",
   "execution_count": 12,
   "metadata": {
    "execution": {
     "iopub.execute_input": "2023-01-27T11:00:09.285625Z",
     "iopub.status.busy": "2023-01-27T11:00:09.285149Z",
     "iopub.status.idle": "2023-01-27T11:00:09.353940Z",
     "shell.execute_reply": "2023-01-27T11:00:09.352498Z",
     "shell.execute_reply.started": "2023-01-27T11:00:09.285587Z"
    }
   },
   "outputs": [
    {
     "data": {
      "text/html": [
       "<div>\n",
       "<style scoped>\n",
       "    .dataframe tbody tr th:only-of-type {\n",
       "        vertical-align: middle;\n",
       "    }\n",
       "\n",
       "    .dataframe tbody tr th {\n",
       "        vertical-align: top;\n",
       "    }\n",
       "\n",
       "    .dataframe thead th {\n",
       "        text-align: right;\n",
       "    }\n",
       "</style>\n",
       "<table border=\"1\" class=\"dataframe\">\n",
       "  <thead>\n",
       "    <tr style=\"text-align: right;\">\n",
       "      <th></th>\n",
       "      <th>user_id</th>\n",
       "      <th>timestamp</th>\n",
       "      <th>group</th>\n",
       "      <th>landing_page</th>\n",
       "      <th>converted</th>\n",
       "    </tr>\n",
       "  </thead>\n",
       "  <tbody>\n",
       "    <tr>\n",
       "      <th>308</th>\n",
       "      <td>857184</td>\n",
       "      <td>34:59.8</td>\n",
       "      <td>treatment</td>\n",
       "      <td>old_page</td>\n",
       "      <td>0</td>\n",
       "    </tr>\n",
       "    <tr>\n",
       "      <th>327</th>\n",
       "      <td>686623</td>\n",
       "      <td>26:40.7</td>\n",
       "      <td>treatment</td>\n",
       "      <td>old_page</td>\n",
       "      <td>0</td>\n",
       "    </tr>\n",
       "    <tr>\n",
       "      <th>357</th>\n",
       "      <td>856078</td>\n",
       "      <td>29:30.4</td>\n",
       "      <td>treatment</td>\n",
       "      <td>old_page</td>\n",
       "      <td>0</td>\n",
       "    </tr>\n",
       "    <tr>\n",
       "      <th>685</th>\n",
       "      <td>666385</td>\n",
       "      <td>11:54.8</td>\n",
       "      <td>treatment</td>\n",
       "      <td>old_page</td>\n",
       "      <td>0</td>\n",
       "    </tr>\n",
       "    <tr>\n",
       "      <th>713</th>\n",
       "      <td>748761</td>\n",
       "      <td>47:44.4</td>\n",
       "      <td>treatment</td>\n",
       "      <td>old_page</td>\n",
       "      <td>0</td>\n",
       "    </tr>\n",
       "    <tr>\n",
       "      <th>...</th>\n",
       "      <td>...</td>\n",
       "      <td>...</td>\n",
       "      <td>...</td>\n",
       "      <td>...</td>\n",
       "      <td>...</td>\n",
       "    </tr>\n",
       "    <tr>\n",
       "      <th>293773</th>\n",
       "      <td>688144</td>\n",
       "      <td>34:50.5</td>\n",
       "      <td>treatment</td>\n",
       "      <td>old_page</td>\n",
       "      <td>1</td>\n",
       "    </tr>\n",
       "    <tr>\n",
       "      <th>293817</th>\n",
       "      <td>876037</td>\n",
       "      <td>15:09.0</td>\n",
       "      <td>treatment</td>\n",
       "      <td>old_page</td>\n",
       "      <td>1</td>\n",
       "    </tr>\n",
       "    <tr>\n",
       "      <th>293917</th>\n",
       "      <td>738357</td>\n",
       "      <td>37:55.7</td>\n",
       "      <td>treatment</td>\n",
       "      <td>old_page</td>\n",
       "      <td>0</td>\n",
       "    </tr>\n",
       "    <tr>\n",
       "      <th>294014</th>\n",
       "      <td>813406</td>\n",
       "      <td>25:33.2</td>\n",
       "      <td>treatment</td>\n",
       "      <td>old_page</td>\n",
       "      <td>0</td>\n",
       "    </tr>\n",
       "    <tr>\n",
       "      <th>294252</th>\n",
       "      <td>892498</td>\n",
       "      <td>11:10.5</td>\n",
       "      <td>treatment</td>\n",
       "      <td>old_page</td>\n",
       "      <td>0</td>\n",
       "    </tr>\n",
       "  </tbody>\n",
       "</table>\n",
       "<p>1965 rows × 5 columns</p>\n",
       "</div>"
      ],
      "text/plain": [
       "        user_id timestamp      group landing_page  converted\n",
       "308      857184   34:59.8  treatment     old_page          0\n",
       "327      686623   26:40.7  treatment     old_page          0\n",
       "357      856078   29:30.4  treatment     old_page          0\n",
       "685      666385   11:54.8  treatment     old_page          0\n",
       "713      748761   47:44.4  treatment     old_page          0\n",
       "...         ...       ...        ...          ...        ...\n",
       "293773   688144   34:50.5  treatment     old_page          1\n",
       "293817   876037   15:09.0  treatment     old_page          1\n",
       "293917   738357   37:55.7  treatment     old_page          0\n",
       "294014   813406   25:33.2  treatment     old_page          0\n",
       "294252   892498   11:10.5  treatment     old_page          0\n",
       "\n",
       "[1965 rows x 5 columns]"
      ]
     },
     "execution_count": 12,
     "metadata": {},
     "output_type": "execute_result"
    }
   ],
   "source": [
    "# ok let's see that rows\n",
    "df[(df['group']=='treatment') & (df['landing_page']=='old_page')]"
   ]
  },
  {
   "cell_type": "code",
   "execution_count": 13,
   "metadata": {
    "execution": {
     "iopub.execute_input": "2023-01-27T11:03:25.861820Z",
     "iopub.status.busy": "2023-01-27T11:03:25.861345Z",
     "iopub.status.idle": "2023-01-27T11:03:25.965177Z",
     "shell.execute_reply": "2023-01-27T11:03:25.963810Z",
     "shell.execute_reply.started": "2023-01-27T11:03:25.861783Z"
    }
   },
   "outputs": [],
   "source": [
    "df_missmatch=df[(df['group']=='treatment') & (df['landing_page']=='old_page') | (df['group']=='control') & (df['landing_page']=='new_page')]"
   ]
  },
  {
   "cell_type": "code",
   "execution_count": 14,
   "metadata": {
    "execution": {
     "iopub.execute_input": "2023-01-27T11:05:20.169702Z",
     "iopub.status.busy": "2023-01-27T11:05:20.169272Z",
     "iopub.status.idle": "2023-01-27T11:05:20.176814Z",
     "shell.execute_reply": "2023-01-27T11:05:20.175245Z",
     "shell.execute_reply.started": "2023-01-27T11:05:20.169662Z"
    }
   },
   "outputs": [
    {
     "name": "stdout",
     "output_type": "stream",
     "text": [
      "the number of missmatch rows:  3893\n"
     ]
    }
   ],
   "source": [
    "print('the number of missmatch rows: ',df_missmatch.shape[0])"
   ]
  },
  {
   "cell_type": "code",
   "execution_count": 15,
   "metadata": {
    "execution": {
     "iopub.execute_input": "2023-01-27T11:07:22.297526Z",
     "iopub.status.busy": "2023-01-27T11:07:22.297071Z",
     "iopub.status.idle": "2023-01-27T11:07:22.303954Z",
     "shell.execute_reply": "2023-01-27T11:07:22.302619Z",
     "shell.execute_reply.started": "2023-01-27T11:07:22.297487Z"
    }
   },
   "outputs": [
    {
     "name": "stdout",
     "output_type": "stream",
     "text": [
      "the percentage of missmatch rows:  1.32 %\n"
     ]
    }
   ],
   "source": [
    "print('the percentage of missmatch rows: ',round(df_missmatch.shape[0] / len(df)*100,2),'%')"
   ]
  },
  {
   "cell_type": "markdown",
   "metadata": {},
   "source": [
    "As you can see, there are 3893 rows where treatment does not match with new_page or control does not match with old_page, we can not be suer that if this row truly received the new or old page. How we will deal with those rows?"
   ]
  },
  {
   "cell_type": "code",
   "execution_count": 16,
   "metadata": {
    "execution": {
     "iopub.execute_input": "2023-01-27T11:10:08.197201Z",
     "iopub.status.busy": "2023-01-27T11:10:08.196718Z",
     "iopub.status.idle": "2023-01-27T11:10:08.322338Z",
     "shell.execute_reply": "2023-01-27T11:10:08.320894Z",
     "shell.execute_reply.started": "2023-01-27T11:10:08.197162Z"
    }
   },
   "outputs": [
    {
     "data": {
      "text/plain": [
       "290585"
      ]
     },
     "execution_count": 16,
     "metadata": {},
     "output_type": "execute_result"
    }
   ],
   "source": [
    "df2 = df[(df[\"group\"] == \"treatment\") & (df[\"landing_page\"] == \"new_page\")\n",
    "        |(df[\"group\"] == \"control\") & (df[\"landing_page\"] == \"old_page\")]\n",
    "\n",
    "len(df2)"
   ]
  },
  {
   "cell_type": "markdown",
   "metadata": {},
   "source": []
  },
  {
   "cell_type": "code",
   "execution_count": 17,
   "metadata": {
    "execution": {
     "iopub.execute_input": "2023-01-27T11:10:28.580117Z",
     "iopub.status.busy": "2023-01-27T11:10:28.579560Z",
     "iopub.status.idle": "2023-01-27T11:10:28.597521Z",
     "shell.execute_reply": "2023-01-27T11:10:28.596548Z",
     "shell.execute_reply.started": "2023-01-27T11:10:28.580065Z"
    }
   },
   "outputs": [
    {
     "data": {
      "text/html": [
       "<div>\n",
       "<style scoped>\n",
       "    .dataframe tbody tr th:only-of-type {\n",
       "        vertical-align: middle;\n",
       "    }\n",
       "\n",
       "    .dataframe tbody tr th {\n",
       "        vertical-align: top;\n",
       "    }\n",
       "\n",
       "    .dataframe thead th {\n",
       "        text-align: right;\n",
       "    }\n",
       "</style>\n",
       "<table border=\"1\" class=\"dataframe\">\n",
       "  <thead>\n",
       "    <tr style=\"text-align: right;\">\n",
       "      <th></th>\n",
       "      <th>user_id</th>\n",
       "      <th>timestamp</th>\n",
       "      <th>group</th>\n",
       "      <th>landing_page</th>\n",
       "      <th>converted</th>\n",
       "    </tr>\n",
       "  </thead>\n",
       "  <tbody>\n",
       "    <tr>\n",
       "      <th>0</th>\n",
       "      <td>851104</td>\n",
       "      <td>11:48.6</td>\n",
       "      <td>control</td>\n",
       "      <td>old_page</td>\n",
       "      <td>0</td>\n",
       "    </tr>\n",
       "    <tr>\n",
       "      <th>1</th>\n",
       "      <td>804228</td>\n",
       "      <td>01:45.2</td>\n",
       "      <td>control</td>\n",
       "      <td>old_page</td>\n",
       "      <td>0</td>\n",
       "    </tr>\n",
       "    <tr>\n",
       "      <th>2</th>\n",
       "      <td>661590</td>\n",
       "      <td>55:06.2</td>\n",
       "      <td>treatment</td>\n",
       "      <td>new_page</td>\n",
       "      <td>0</td>\n",
       "    </tr>\n",
       "    <tr>\n",
       "      <th>3</th>\n",
       "      <td>853541</td>\n",
       "      <td>28:03.1</td>\n",
       "      <td>treatment</td>\n",
       "      <td>new_page</td>\n",
       "      <td>0</td>\n",
       "    </tr>\n",
       "    <tr>\n",
       "      <th>4</th>\n",
       "      <td>864975</td>\n",
       "      <td>52:26.2</td>\n",
       "      <td>control</td>\n",
       "      <td>old_page</td>\n",
       "      <td>1</td>\n",
       "    </tr>\n",
       "  </tbody>\n",
       "</table>\n",
       "</div>"
      ],
      "text/plain": [
       "   user_id timestamp      group landing_page  converted\n",
       "0   851104   11:48.6    control     old_page          0\n",
       "1   804228   01:45.2    control     old_page          0\n",
       "2   661590   55:06.2  treatment     new_page          0\n",
       "3   853541   28:03.1  treatment     new_page          0\n",
       "4   864975   52:26.2    control     old_page          1"
      ]
     },
     "execution_count": 17,
     "metadata": {},
     "output_type": "execute_result"
    }
   ],
   "source": [
    "df2.head()"
   ]
  },
  {
   "cell_type": "code",
   "execution_count": 18,
   "metadata": {
    "execution": {
     "iopub.execute_input": "2023-01-27T11:10:45.771211Z",
     "iopub.status.busy": "2023-01-27T11:10:45.770770Z",
     "iopub.status.idle": "2023-01-27T11:10:45.827102Z",
     "shell.execute_reply": "2023-01-27T11:10:45.825783Z",
     "shell.execute_reply.started": "2023-01-27T11:10:45.771168Z"
    }
   },
   "outputs": [
    {
     "data": {
      "text/plain": [
       "0"
      ]
     },
     "execution_count": 18,
     "metadata": {},
     "output_type": "execute_result"
    }
   ],
   "source": [
    "# Double Check all of the correct rows were removed - this should be 0\n",
    "df2[((df2['group'] == 'treatment') == (df2['landing_page'] == 'new_page')) == False].shape[0]"
   ]
  },
  {
   "cell_type": "code",
   "execution_count": 19,
   "metadata": {
    "execution": {
     "iopub.execute_input": "2023-01-27T11:11:07.827925Z",
     "iopub.status.busy": "2023-01-27T11:11:07.827051Z",
     "iopub.status.idle": "2023-01-27T11:11:07.934476Z",
     "shell.execute_reply": "2023-01-27T11:11:07.933113Z",
     "shell.execute_reply.started": "2023-01-27T11:11:07.827875Z"
    }
   },
   "outputs": [],
   "source": [
    "# Another way to double Check all of the correct rows were removed \n",
    "df_mismatch = df2[(df2[\"group\"] == \"treatment\") & (df2[\"landing_page\"] == \"old_page\")\n",
    "               |(df2[\"group\"] == \"control\") & (df2[\"landing_page\"] == \"new_page\")]"
   ]
  },
  {
   "cell_type": "code",
   "execution_count": 20,
   "metadata": {
    "execution": {
     "iopub.execute_input": "2023-01-27T11:13:05.334735Z",
     "iopub.status.busy": "2023-01-27T11:13:05.333158Z",
     "iopub.status.idle": "2023-01-27T11:13:05.342634Z",
     "shell.execute_reply": "2023-01-27T11:13:05.341297Z",
     "shell.execute_reply.started": "2023-01-27T11:13:05.334631Z"
    }
   },
   "outputs": [
    {
     "name": "stdout",
     "output_type": "stream",
     "text": [
      "Number of mismatched rows: 0.0 rows\n",
      "Percent of mismatched rows: 0.0 percent\n"
     ]
    }
   ],
   "source": [
    "percent_mismatch = round(df_mismatch.shape[0] / len(df2) * 100, 2)\n",
    "print(f'Number of mismatched rows: {percent_mismatch} rows')\n",
    "print(f'Percent of mismatched rows: {percent_mismatch} percent')"
   ]
  },
  {
   "cell_type": "code",
   "execution_count": 21,
   "metadata": {
    "execution": {
     "iopub.execute_input": "2023-01-27T11:13:45.198794Z",
     "iopub.status.busy": "2023-01-27T11:13:45.197873Z",
     "iopub.status.idle": "2023-01-27T11:13:45.224101Z",
     "shell.execute_reply": "2023-01-27T11:13:45.222629Z",
     "shell.execute_reply.started": "2023-01-27T11:13:45.198756Z"
    }
   },
   "outputs": [
    {
     "data": {
      "text/plain": [
       "290584"
      ]
     },
     "execution_count": 21,
     "metadata": {},
     "output_type": "execute_result"
    }
   ],
   "source": [
    "# unique user id in df3\n",
    "df2.user_id.nunique()"
   ]
  },
  {
   "cell_type": "code",
   "execution_count": 22,
   "metadata": {
    "execution": {
     "iopub.execute_input": "2023-01-27T11:14:43.962467Z",
     "iopub.status.busy": "2023-01-27T11:14:43.961893Z",
     "iopub.status.idle": "2023-01-27T11:14:43.991126Z",
     "shell.execute_reply": "2023-01-27T11:14:43.989628Z",
     "shell.execute_reply.started": "2023-01-27T11:14:43.962411Z"
    }
   },
   "outputs": [
    {
     "data": {
      "text/plain": [
       "1"
      ]
     },
     "execution_count": 22,
     "metadata": {},
     "output_type": "execute_result"
    }
   ],
   "source": [
    "# number of repeated id's in df2\n",
    "len(df2) - df2.user_id.nunique()"
   ]
  },
  {
   "cell_type": "code",
   "execution_count": 23,
   "metadata": {
    "execution": {
     "iopub.execute_input": "2023-01-27T11:15:39.250509Z",
     "iopub.status.busy": "2023-01-27T11:15:39.250088Z",
     "iopub.status.idle": "2023-01-27T11:15:39.294726Z",
     "shell.execute_reply": "2023-01-27T11:15:39.293581Z",
     "shell.execute_reply.started": "2023-01-27T11:15:39.250474Z"
    }
   },
   "outputs": [
    {
     "data": {
      "text/html": [
       "<div>\n",
       "<style scoped>\n",
       "    .dataframe tbody tr th:only-of-type {\n",
       "        vertical-align: middle;\n",
       "    }\n",
       "\n",
       "    .dataframe tbody tr th {\n",
       "        vertical-align: top;\n",
       "    }\n",
       "\n",
       "    .dataframe thead th {\n",
       "        text-align: right;\n",
       "    }\n",
       "</style>\n",
       "<table border=\"1\" class=\"dataframe\">\n",
       "  <thead>\n",
       "    <tr style=\"text-align: right;\">\n",
       "      <th></th>\n",
       "      <th>user_id</th>\n",
       "      <th>timestamp</th>\n",
       "      <th>group</th>\n",
       "      <th>landing_page</th>\n",
       "      <th>converted</th>\n",
       "    </tr>\n",
       "  </thead>\n",
       "  <tbody>\n",
       "    <tr>\n",
       "      <th>2893</th>\n",
       "      <td>773192</td>\n",
       "      <td>55:59.6</td>\n",
       "      <td>treatment</td>\n",
       "      <td>new_page</td>\n",
       "      <td>0</td>\n",
       "    </tr>\n",
       "  </tbody>\n",
       "</table>\n",
       "</div>"
      ],
      "text/plain": [
       "      user_id timestamp      group landing_page  converted\n",
       "2893   773192   55:59.6  treatment     new_page          0"
      ]
     },
     "execution_count": 23,
     "metadata": {},
     "output_type": "execute_result"
    }
   ],
   "source": [
    "# display the duplicated row\n",
    "df2[df2.duplicated('user_id')==True]"
   ]
  },
  {
   "cell_type": "code",
   "execution_count": 24,
   "metadata": {
    "execution": {
     "iopub.execute_input": "2023-01-27T11:16:44.111438Z",
     "iopub.status.busy": "2023-01-27T11:16:44.110967Z",
     "iopub.status.idle": "2023-01-27T11:16:44.164392Z",
     "shell.execute_reply": "2023-01-27T11:16:44.163219Z",
     "shell.execute_reply.started": "2023-01-27T11:16:44.111398Z"
    }
   },
   "outputs": [],
   "source": [
    "# now we drop duplicated row\n",
    "df2=df2.drop_duplicates('user_id')"
   ]
  },
  {
   "cell_type": "markdown",
   "metadata": {},
   "source": [
    "# # Probability"
   ]
  },
  {
   "cell_type": "code",
   "execution_count": 25,
   "metadata": {
    "execution": {
     "iopub.execute_input": "2023-01-27T11:18:12.358799Z",
     "iopub.status.busy": "2023-01-27T11:18:12.358374Z",
     "iopub.status.idle": "2023-01-27T11:18:12.367641Z",
     "shell.execute_reply": "2023-01-27T11:18:12.365900Z",
     "shell.execute_reply.started": "2023-01-27T11:18:12.358767Z"
    }
   },
   "outputs": [
    {
     "data": {
      "text/plain": [
       "11.959708724499627"
      ]
     },
     "execution_count": 25,
     "metadata": {},
     "output_type": "execute_result"
    }
   ],
   "source": [
    "# percentage of convergance\n",
    "df2.converted.mean()*100"
   ]
  },
  {
   "cell_type": "code",
   "execution_count": 26,
   "metadata": {
    "execution": {
     "iopub.execute_input": "2023-01-27T11:19:30.105902Z",
     "iopub.status.busy": "2023-01-27T11:19:30.105406Z",
     "iopub.status.idle": "2023-01-27T11:19:30.357158Z",
     "shell.execute_reply": "2023-01-27T11:19:30.355829Z",
     "shell.execute_reply.started": "2023-01-27T11:19:30.105861Z"
    }
   },
   "outputs": [
    {
     "data": {
      "text/html": [
       "<div>\n",
       "<style scoped>\n",
       "    .dataframe tbody tr th:only-of-type {\n",
       "        vertical-align: middle;\n",
       "    }\n",
       "\n",
       "    .dataframe tbody tr th {\n",
       "        vertical-align: top;\n",
       "    }\n",
       "\n",
       "    .dataframe thead th {\n",
       "        text-align: right;\n",
       "    }\n",
       "</style>\n",
       "<table border=\"1\" class=\"dataframe\">\n",
       "  <thead>\n",
       "    <tr style=\"text-align: right;\">\n",
       "      <th></th>\n",
       "      <th>converted</th>\n",
       "    </tr>\n",
       "    <tr>\n",
       "      <th>group</th>\n",
       "      <th></th>\n",
       "    </tr>\n",
       "  </thead>\n",
       "  <tbody>\n",
       "    <tr>\n",
       "      <th>control</th>\n",
       "      <td>12.038630</td>\n",
       "    </tr>\n",
       "    <tr>\n",
       "      <th>treatment</th>\n",
       "      <td>11.880807</td>\n",
       "    </tr>\n",
       "  </tbody>\n",
       "</table>\n",
       "</div>"
      ],
      "text/plain": [
       "           converted\n",
       "group               \n",
       "control    12.038630\n",
       "treatment  11.880807"
      ]
     },
     "execution_count": 26,
     "metadata": {},
     "output_type": "execute_result"
    }
   ],
   "source": [
    "df2.user_id = df2.user_id.astype(str)\n",
    "df2.groupby('group').mean()*100"
   ]
  },
  {
   "cell_type": "code",
   "execution_count": 27,
   "metadata": {
    "execution": {
     "iopub.execute_input": "2023-01-27T11:21:02.253629Z",
     "iopub.status.busy": "2023-01-27T11:21:02.253161Z",
     "iopub.status.idle": "2023-01-27T11:21:02.281068Z",
     "shell.execute_reply": "2023-01-27T11:21:02.278972Z",
     "shell.execute_reply.started": "2023-01-27T11:21:02.253592Z"
    }
   },
   "outputs": [
    {
     "data": {
      "text/plain": [
       "new_page    145310\n",
       "old_page    145274\n",
       "Name: landing_page, dtype: int64"
      ]
     },
     "execution_count": 27,
     "metadata": {},
     "output_type": "execute_result"
    }
   ],
   "source": [
    "# probability according to individual received the new page\n",
    "df2.landing_page.value_counts()"
   ]
  },
  {
   "cell_type": "markdown",
   "metadata": {},
   "source": [
    "# # A/B Testing "
   ]
  },
  {
   "cell_type": "code",
   "execution_count": null,
   "metadata": {
    "execution": {
     "iopub.execute_input": "2023-01-27T11:27:24.543717Z",
     "iopub.status.busy": "2023-01-27T11:27:24.543311Z",
     "iopub.status.idle": "2023-01-27T11:27:44.148525Z",
     "shell.execute_reply": "2023-01-27T11:27:44.146910Z",
     "shell.execute_reply.started": "2023-01-27T11:27:24.543685Z"
    }
   },
   "outputs": [],
   "source": [
    "#creating the smapling distribution of difference in means\n",
    "means_diff = []\n",
    "size = df.shape[0]\n",
    "for _ in range(10000):\n",
    "    sample = df2.sample(size, replace = True)\n",
    "    control_mean = sample[sample[\"group\"] == \"control\"][\"converted\"].mean()\n",
    "    treat_mean = sample[sample[\"group\"] == \"treatment\"][\"converted\"].mean()\n",
    "    means_diff.append(treat_mean - control_mean)"
   ]
  },
  {
   "cell_type": "code",
   "execution_count": null,
   "metadata": {
    "execution": {
     "iopub.status.busy": "2023-01-27T11:27:14.776452Z",
     "iopub.status.idle": "2023-01-27T11:27:14.776905Z",
     "shell.execute_reply": "2023-01-27T11:27:14.776715Z",
     "shell.execute_reply.started": "2023-01-27T11:27:14.776694Z"
    }
   },
   "outputs": [],
   "source": [
    "plt.figure(figsize=(8,4),dpi=100)\n",
    "sns.hist(means_df,bins=30)\n"
   ]
  },
  {
   "cell_type": "code",
   "execution_count": null,
   "metadata": {},
   "outputs": [],
   "source": []
  }
 ],
 "metadata": {
  "kernelspec": {
   "display_name": "Python 3 (ipykernel)",
   "language": "python",
   "name": "python3"
  },
  "language_info": {
   "codemirror_mode": {
    "name": "ipython",
    "version": 3
   },
   "file_extension": ".py",
   "mimetype": "text/x-python",
   "name": "python",
   "nbconvert_exporter": "python",
   "pygments_lexer": "ipython3",
   "version": "3.9.13"
  }
 },
 "nbformat": 4,
 "nbformat_minor": 4
}
