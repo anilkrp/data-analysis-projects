{
 "cells": [
  {
   "cell_type": "markdown",
   "id": "d0cd2600",
   "metadata": {},
   "source": [
    "### Linear Regression"
   ]
  },
  {
   "cell_type": "code",
   "execution_count": 1,
   "id": "d69030a9",
   "metadata": {},
   "outputs": [],
   "source": [
    "from sklearn.linear_model import LinearRegression"
   ]
  },
  {
   "cell_type": "code",
   "execution_count": 5,
   "id": "8ebf90bb",
   "metadata": {},
   "outputs": [
    {
     "data": {
      "text/plain": [
       "array([7.])"
      ]
     },
     "execution_count": 5,
     "metadata": {},
     "output_type": "execute_result"
    }
   ],
   "source": [
    "x = [[1,1],[1,2],[2,2],[2,3]]\n",
    "y = [2,3,3,4]\n",
    "regressor = LinearRegression()\n",
    "regressor.fit(x,y)\n",
    "regressor.predict([[1,6]])"
   ]
  },
  {
   "cell_type": "markdown",
   "id": "40047995",
   "metadata": {},
   "source": [
    "### Decision Trees"
   ]
  },
  {
   "cell_type": "code",
   "execution_count": 6,
   "id": "3536774d",
   "metadata": {},
   "outputs": [
    {
     "data": {
      "text/plain": [
       "array([2])"
      ]
     },
     "execution_count": 6,
     "metadata": {},
     "output_type": "execute_result"
    }
   ],
   "source": [
    "from sklearn.datasets import load_iris\n",
    "from sklearn.tree import DecisionTreeClassifier\n",
    "iris = load_iris()\n",
    "x,y = iris.data,iris.target\n",
    "clf = DecisionTreeClassifier()\n",
    "clf.fit(x,y)\n",
    "clf.predict([[5.0,3.0,4.0,2.0]])"
   ]
  },
  {
   "cell_type": "markdown",
   "id": "b2299bf5",
   "metadata": {},
   "source": [
    "### Random Forest"
   ]
  },
  {
   "cell_type": "code",
   "execution_count": 7,
   "id": "c790c283",
   "metadata": {},
   "outputs": [
    {
     "data": {
      "text/plain": [
       "array([1])"
      ]
     },
     "execution_count": 7,
     "metadata": {},
     "output_type": "execute_result"
    }
   ],
   "source": [
    "from sklearn.ensemble import RandomForestClassifier\n",
    "from sklearn.datasets import make_classification\n",
    "x,y = make_classification(n_features=4,random_state=0)\n",
    "clf = RandomForestClassifier(max_depth=2,random_state=0)\n",
    "clf.fit(x,y)\n",
    "clf.predict([[0,0,0,0]])"
   ]
  },
  {
   "cell_type": "markdown",
   "id": "d4df793c",
   "metadata": {},
   "source": [
    "### Support Vector Machines"
   ]
  },
  {
   "cell_type": "code",
   "execution_count": 9,
   "id": "5537efb4",
   "metadata": {},
   "outputs": [
    {
     "data": {
      "text/plain": [
       "array([1])"
      ]
     },
     "execution_count": 9,
     "metadata": {},
     "output_type": "execute_result"
    }
   ],
   "source": [
    "from sklearn import svm\n",
    "x = [[0,0],[1,1]]\n",
    "y = [0,1]\n",
    "clf = svm.SVC()\n",
    "clf.fit(x,y)\n",
    "clf.predict([[2.,2.]])"
   ]
  },
  {
   "cell_type": "markdown",
   "id": "b46b19f4",
   "metadata": {},
   "source": [
    "### Neutral Networks"
   ]
  },
  {
   "cell_type": "code",
   "execution_count": 10,
   "id": "ed6d1be3",
   "metadata": {},
   "outputs": [],
   "source": [
    "import tensorflow as tf"
   ]
  },
  {
   "cell_type": "code",
   "execution_count": 11,
   "id": "47a70cb4",
   "metadata": {},
   "outputs": [
    {
     "name": "stdout",
     "output_type": "stream",
     "text": [
      "Downloading data from https://storage.googleapis.com/tensorflow/tf-keras-datasets/mnist.npz\n",
      "11490434/11490434 [==============================] - 27s 2us/step\n"
     ]
    },
    {
     "data": {
      "text/plain": [
       "array([[0.15936522, 0.07698447, 0.05661316, 0.04018416, 0.13000539,\n",
       "        0.07654897, 0.17020936, 0.08325151, 0.11159002, 0.09524765]],\n",
       "      dtype=float32)"
      ]
     },
     "execution_count": 11,
     "metadata": {},
     "output_type": "execute_result"
    }
   ],
   "source": [
    "mnist = tf.keras.datasets.mnist\n",
    "(X_train, y_train), (X_test, y_test) = mnist.load_data()\n",
    "X_train, X_test = X_train / 255.0, X_test / 255.0\n",
    "model = tf.keras.models.Sequential([\n",
    "  tf.keras.layers.Flatten(input_shape=(28, 28)),\n",
    "  tf.keras.layers.Dense(128, activation='relu'),\n",
    "  tf.keras.layers.Dropout(0.2),\n",
    "  tf.keras.layers.Dense(10)\n",
    "])\n",
    "predictions = model(X_train[:1]).numpy()\n",
    "tf.nn.softmax(predictions).numpy()"
   ]
  },
  {
   "cell_type": "code",
   "execution_count": null,
   "id": "82494f77",
   "metadata": {},
   "outputs": [],
   "source": []
  }
 ],
 "metadata": {
  "kernelspec": {
   "display_name": "Python 3 (ipykernel)",
   "language": "python",
   "name": "python3"
  },
  "language_info": {
   "codemirror_mode": {
    "name": "ipython",
    "version": 3
   },
   "file_extension": ".py",
   "mimetype": "text/x-python",
   "name": "python",
   "nbconvert_exporter": "python",
   "pygments_lexer": "ipython3",
   "version": "3.9.13"
  }
 },
 "nbformat": 4,
 "nbformat_minor": 5
}
